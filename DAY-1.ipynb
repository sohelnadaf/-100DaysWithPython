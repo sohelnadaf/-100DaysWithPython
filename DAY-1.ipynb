{
 "cells": [
  {
   "cell_type": "markdown",
   "id": "a93d4d83",
   "metadata": {},
   "source": [
    "# Welcome to the band name generator"
   ]
  },
  {
   "cell_type": "code",
   "execution_count": 4,
   "id": "b3e2b5c4",
   "metadata": {},
   "outputs": [
    {
     "name": "stdout",
     "output_type": "stream",
     "text": [
      "What's name of city you grew in?pune\n",
      "What's your pet's name?tommy\n",
      "your band name could be Pune Tommy\n"
     ]
    }
   ],
   "source": [
    "city_name = input(\"What's name of city you grew in?\")\n",
    "pet_name = input(\"What's your pet's name?\")\n",
    "print(f\"your band name could be {city_name.title()} {pet_name.title()}\")"
   ]
  },
  {
   "cell_type": "code",
   "execution_count": null,
   "id": "5d179b25",
   "metadata": {},
   "outputs": [],
   "source": []
  }
 ],
 "metadata": {
  "kernelspec": {
   "display_name": "Python 3 (ipykernel)",
   "language": "python",
   "name": "python3"
  },
  "language_info": {
   "codemirror_mode": {
    "name": "ipython",
    "version": 3
   },
   "file_extension": ".py",
   "mimetype": "text/x-python",
   "name": "python",
   "nbconvert_exporter": "python",
   "pygments_lexer": "ipython3",
   "version": "3.9.12"
  }
 },
 "nbformat": 4,
 "nbformat_minor": 5
}
