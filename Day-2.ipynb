{
 "cells": [
  {
   "cell_type": "code",
   "execution_count": 5,
   "id": "266fc152",
   "metadata": {},
   "outputs": [
    {
     "name": "stdout",
     "output_type": "stream",
     "text": [
      "e\n"
     ]
    }
   ],
   "source": [
    "# subscript\n",
    "print(\"hello\"[1])"
   ]
  },
  {
   "cell_type": "code",
   "execution_count": 1,
   "id": "aae237ff",
   "metadata": {},
   "outputs": [
    {
     "name": "stdout",
     "output_type": "stream",
     "text": [
      "<class 'int'>\n"
     ]
    }
   ],
   "source": [
    "# type of data\n",
    "n  = 10\n",
    "print(type(n))"
   ]
  },
  {
   "cell_type": "markdown",
   "id": "4fb5c7cf",
   "metadata": {},
   "source": [
    "## Day2 Project"
   ]
  },
  {
   "cell_type": "code",
   "execution_count": null,
   "id": "caadd1ba",
   "metadata": {},
   "outputs": [],
   "source": [
    "Explanation:\n",
    "\n",
    "40% of 80 can be written as 40% × 80.\n",
    "\n",
    "= 40/100 × 80\n",
    "\n",
    "= 32"
   ]
  },
  {
   "cell_type": "code",
   "execution_count": 10,
   "id": "925c4f12",
   "metadata": {},
   "outputs": [
    {
     "name": "stdout",
     "output_type": "stream",
     "text": [
      "Welcome to the tip calculator\n",
      "what was the total bill?1000\n",
      "what percentage tip would you like to give? 10,12, or 15 ?12\n",
      "How many people to split the bill?6\n",
      "your Initial bill 1000 after adding Tip 1120.0 and after splitting 187\n"
     ]
    }
   ],
   "source": [
    "print(\"Welcome to the tip calculator\")\n",
    "\n",
    "# input section\n",
    "total_bill = int(input(\"what was the total bill?\"))\n",
    "tip_percentage = int(input(\"what percentage tip would you like to give? 10,12, or 15 ?\"))\n",
    "split_person = int(input(\"How many people to split the bill?\"))\n",
    "\n",
    "bill_after_tip = 0\n",
    "after_split = 0\n",
    "\n",
    "if tip_percentage == 10:\n",
    "    per = 0.10*total_bill\n",
    "    bill_after_tip = per+total_bill\n",
    "    after_split = (bill_after_tip / split_person)\n",
    "elif tip_percentage == 12:\n",
    "    per = (12/100*total_bill)\n",
    "    bill_after_tip = per+total_bill\n",
    "    after_split = (bill_after_tip / split_person)\n",
    "elif tip_percentage == 15:\n",
    "    per = (15/100*total_bill)\n",
    "    bill_after_tip = per+total_bill\n",
    "    after_split = (bill_after_tip / split_person)\n",
    "else:\n",
    "    print(\"you entered non given tip percentage\")\n",
    "    \n",
    "    \n",
    "\n",
    "#printing bill \n",
    "print(f\"your Initial bill {total_bill} after adding Tip {bill_after_tip} and after splitting {round(after_split)}\")\n"
   ]
  },
  {
   "cell_type": "code",
   "execution_count": null,
   "id": "d8de93c0",
   "metadata": {},
   "outputs": [],
   "source": []
  }
 ],
 "metadata": {
  "kernelspec": {
   "display_name": "Python 3 (ipykernel)",
   "language": "python",
   "name": "python3"
  },
  "language_info": {
   "codemirror_mode": {
    "name": "ipython",
    "version": 3
   },
   "file_extension": ".py",
   "mimetype": "text/x-python",
   "name": "python",
   "nbconvert_exporter": "python",
   "pygments_lexer": "ipython3",
   "version": "3.9.12"
  }
 },
 "nbformat": 4,
 "nbformat_minor": 5
}
