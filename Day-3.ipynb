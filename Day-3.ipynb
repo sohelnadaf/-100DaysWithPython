{
 "cells": [
  {
   "cell_type": "code",
   "execution_count": null,
   "id": "67033bf1",
   "metadata": {},
   "outputs": [],
   "source": [
    "water_level = 60\n",
    "\n",
    "if(water_level>80):\n",
    "    print(\"drain flow\")"
   ]
  },
  {
   "cell_type": "code",
   "execution_count": null,
   "id": "bd3ce25e",
   "metadata": {},
   "outputs": [],
   "source": [
    "height >120 cm\n"
   ]
  },
  {
   "cell_type": "code",
   "execution_count": 2,
   "id": "2d55a34e",
   "metadata": {},
   "outputs": [
    {
     "name": "stdout",
     "output_type": "stream",
     "text": [
      "what is your height?120\n",
      "enter your age23\n",
      "you can ride\n",
      "you have to pay 12\n",
      "do you want's a photo Y or N y\n",
      "your final bill is 15\n"
     ]
    }
   ],
   "source": [
    "height = int(input(\"what is your height?\"))\n",
    "age = int(input(\"enter your age\"))\n",
    "\n",
    "ticket_price = 0\n",
    "\n",
    "if height>=120:\n",
    "    print(\"you can ride\")\n",
    "    if age<=12:\n",
    "        ticket_price = 5\n",
    "        print(f\"you have to pay {ticket_price}\")\n",
    "    elif (age>12) and (age<18):\n",
    "        ticket_price = 7\n",
    "        print(f\"you have to pay {ticket_price}\")\n",
    "    else:\n",
    "        ticket_price = 12\n",
    "        print(f\"you have to pay {ticket_price}\")\n",
    "        \n",
    "    photo = input(\"do you want's a photo Y or N \")\n",
    "    if photo == \"y\":\n",
    "        ticket_price = ticket_price + 3\n",
    "        \n",
    "        \n",
    "    print(f\"your final bill is {ticket_price}\")\n",
    "else:\n",
    "    print(\"sorry you're not eligible\")"
   ]
  },
  {
   "cell_type": "code",
   "execution_count": 4,
   "id": "74238607",
   "metadata": {},
   "outputs": [
    {
     "name": "stdout",
     "output_type": "stream",
     "text": [
      "enter a number3\n",
      "odd number\n"
     ]
    }
   ],
   "source": [
    "# Day 3.1\n",
    "\n",
    "number = int(input(\"enter a number\"))\n",
    "\n",
    "if number%2==0:\n",
    "    print(\"even number\")\n",
    "else:\n",
    "    print(\"odd number\")"
   ]
  },
  {
   "cell_type": "code",
   "execution_count": 5,
   "id": "274bbc51",
   "metadata": {},
   "outputs": [
    {
     "name": "stdout",
     "output_type": "stream",
     "text": [
      "welcome to Danny's pizza\n",
      "enter your size? S, M, Ls\n",
      "do you want pepporoni? Y or Ny\n",
      "do you want extra cheesey\n",
      "Pizza size? S,M,Ls\n",
      " your final bill 18\n"
     ]
    }
   ],
   "source": [
    "# pizza order code\n",
    "print(\"welcome to Danny's pizza\")\n",
    "pizza_size = input(\"enter your size? S, M, L\")\n",
    "add_pepperoni = input(\"do you want pepporoni? Y or N\")\n",
    "extra_cheese = input(\"do you want extra cheese\")\n",
    "\n",
    "final_bill = 0\n",
    "\n",
    "if pizza_size.upper() == \"S\":\n",
    "    final_bill += 15\n",
    "elif pizza_size.upper() == \"M\":\n",
    "    final_bill += 20\n",
    "elif pizza_size.upper()==\"L\":\n",
    "    final_bill += 25\n",
    "    \n",
    "# pepporoni\n",
    "if add_pepperoni.upper() == \"Y\":\n",
    "    size = input(\"Pizza size? S,M,L\")\n",
    "    if size.upper() == \"S\":\n",
    "        final_bill+=2\n",
    "    elif size.upper() == \"M\" or size.upper()== \"L\":\n",
    "        final_bill+=3\n",
    "    else:\n",
    "        print(\"sorry \")\n",
    "        pass\n",
    "if extra_cheese.upper() == \"Y\":\n",
    "    final_bill+=1\n",
    "    \n",
    "print(f\" your final bill {final_bill}\")\n"
   ]
  },
  {
   "cell_type": "code",
   "execution_count": 15,
   "id": "6bc64e6e",
   "metadata": {},
   "outputs": [],
   "source": [
    "a = 10\n",
    "b = 10\n",
    "c = 2"
   ]
  },
  {
   "cell_type": "code",
   "execution_count": 16,
   "id": "15f99665",
   "metadata": {},
   "outputs": [
    {
     "data": {
      "text/plain": [
       "True"
      ]
     },
     "execution_count": 16,
     "metadata": {},
     "output_type": "execute_result"
    }
   ],
   "source": [
    "a>c and b>c"
   ]
  },
  {
   "cell_type": "code",
   "execution_count": 17,
   "id": "6d467631",
   "metadata": {},
   "outputs": [
    {
     "data": {
      "text/plain": [
       "True"
      ]
     },
     "execution_count": 17,
     "metadata": {},
     "output_type": "execute_result"
    }
   ],
   "source": [
    "not a>15"
   ]
  },
  {
   "cell_type": "code",
   "execution_count": 18,
   "id": "0dc19148",
   "metadata": {},
   "outputs": [
    {
     "data": {
      "text/plain": [
       "True"
      ]
     },
     "execution_count": 18,
     "metadata": {},
     "output_type": "execute_result"
    }
   ],
   "source": [
    "a>c or b>c"
   ]
  },
  {
   "cell_type": "code",
   "execution_count": null,
   "id": "255691d8",
   "metadata": {},
   "outputs": [],
   "source": [
    "# Day 3.5 \n",
    "# Love Calculator\n",
    "print(\"welcome to love calculator\")\n",
    "name1 = input(\"what is your lovely name ?\")\n",
    "name2 = input(\"enter si there lovely name ?\")\n",
    "\n",
    "name1c = 0\n",
    "for i in name1:\n",
    "    name1c = count(i)\n",
    "    \n",
    "\n"
   ]
  },
  {
   "cell_type": "code",
   "execution_count": 1,
   "id": "bdf01ff0",
   "metadata": {},
   "outputs": [],
   "source": [
    "treasure = '''\n",
    "_                                                           \n",
    "| |                                                          \n",
    "| |_ _ __ ___  __ _ ___ _   _ _ __ ___ _ __ ___   __ _ _ __  \n",
    "| __| '__/ _ \\/ _` / __| | | | '__/ _ \\ '_ ` _ \\ / _` | '_ \\ \n",
    "| |_| | |  __/ (_| \\__ \\ |_| | | |  __/ | | | | | (_| | |_) |\n",
    " \\__|_|  \\___|\\__,_|___/\\__,_|_|  \\___|_| |_| |_|\\__,_| .__/ \n",
    "                                                      | |    \n",
    "                                                      |_|'''\n"
   ]
  },
  {
   "cell_type": "code",
   "execution_count": 2,
   "id": "e3784e43",
   "metadata": {},
   "outputs": [
    {
     "name": "stdout",
     "output_type": "stream",
     "text": [
      "\n",
      "_                                                           \n",
      "| |                                                          \n",
      "| |_ _ __ ___  __ _ ___ _   _ _ __ ___ _ __ ___   __ _ _ __  \n",
      "| __| '__/ _ \\/ _` / __| | | | '__/ _ \\ '_ ` _ \\ / _` | '_ \\ \n",
      "| |_| | |  __/ (_| \\__ \\ |_| | | |  __/ | | | | | (_| | |_) |\n",
      " \\__|_|  \\___|\\__,_|___/\\__,_|_|  \\___|_| |_| |_|\\__,_| .__/ \n",
      "                                                      | |    \n",
      "                                                      |_|\n"
     ]
    }
   ],
   "source": [
    "print(treasure)"
   ]
  },
  {
   "cell_type": "code",
   "execution_count": 3,
   "id": "b23936a9",
   "metadata": {},
   "outputs": [],
   "source": [
    "treasure1 = '''\n",
    "*******************************************************************************\n",
    "          |                   |                  |                     |\n",
    " _________|________________.=\"\"_;=.______________|_____________________|_______\n",
    "|                   |  ,-\"_,=\"\"     `\"=.|                  |\n",
    "|___________________|__\"=._o`\"-._        `\"=.______________|___________________\n",
    "          |                `\"=._o`\"=._      _`\"=._                     |\n",
    " _________|_____________________:=._o \"=._.\"_.-=\"'\"=.__________________|_______\n",
    "|                   |    __.--\" , ; `\"=._o.\" ,-\"\"\"-._ \".   |\n",
    "|___________________|_._\"  ,. .` ` `` ,  `\"-._\"-._   \". '__|___________________\n",
    "          |           |o`\"=._` , \"` `; .\". ,  \"-._\"-._; ;              |\n",
    " _________|___________| ;`-.o`\"=._; .\" ` '`.\"\\` . \"-._ /_______________|_______\n",
    "|                   | |o;    `\"-.o`\"=._``  '` \" ,__.--o;   |\n",
    "|___________________|_| ;     (#) `-.o `\"=.`_.--\"_o.-; ;___|___________________\n",
    "____/______/______/___|o;._    \"      `\".o|o_.--\"    ;o;____/______/______/____\n",
    "/______/______/______/_\"=._o--._        ; | ;        ; ;/______/______/______/_\n",
    "____/______/______/______/__\"=._o--._   ;o|o;     _._;o;____/______/______/____\n",
    "/______/______/______/______/____\"=._o._; | ;_.--\"o.--\"_/______/______/______/_\n",
    "____/______/______/______/______/_____\"=.o|o_.--\"\"___/______/______/______/____\n",
    "/______/______/______/______/______/______/______/______/______/______/[TomekK]\n",
    "*******************************************************************************'''"
   ]
  },
  {
   "cell_type": "code",
   "execution_count": 6,
   "id": "1100e552",
   "metadata": {},
   "outputs": [
    {
     "name": "stdout",
     "output_type": "stream",
     "text": [
      "\n",
      "*******************************************************************************\n",
      "          |                   |                  |                     |\n",
      " _________|________________.=\"\"_;=.______________|_____________________|_______\n",
      "|                   |  ,-\"_,=\"\"     `\"=.|                  |\n",
      "|___________________|__\"=._o`\"-._        `\"=.______________|___________________\n",
      "          |                `\"=._o`\"=._      _`\"=._                     |\n",
      " _________|_____________________:=._o \"=._.\"_.-=\"'\"=.__________________|_______\n",
      "|                   |    __.--\" , ; `\"=._o.\" ,-\"\"\"-._ \".   |\n",
      "|___________________|_._\"  ,. .` ` `` ,  `\"-._\"-._   \". '__|___________________\n",
      "          |           |o`\"=._` , \"` `; .\". ,  \"-._\"-._; ;              |\n",
      " _________|___________| ;`-.o`\"=._; .\" ` '`.\"\\` . \"-._ /_______________|_______\n",
      "|                   | |o;    `\"-.o`\"=._``  '` \" ,__.--o;   |\n",
      "|___________________|_| ;     (#) `-.o `\"=.`_.--\"_o.-; ;___|___________________\n",
      "____/______/______/___|o;._    \"      `\".o|o_.--\"    ;o;____/______/______/____\n",
      "/______/______/______/_\"=._o--._        ; | ;        ; ;/______/______/______/_\n",
      "____/______/______/______/__\"=._o--._   ;o|o;     _._;o;____/______/______/____\n",
      "/______/______/______/______/____\"=._o._; | ;_.--\"o.--\"_/______/______/______/_\n",
      "____/______/______/______/______/_____\"=.o|o_.--\"\"___/______/______/______/____\n",
      "/______/______/______/______/______/______/______/______/______/______/[TomekK]\n",
      "*******************************************************************************\n",
      "Welcome to Treasure Island.\n",
      "Your mission is to find the treasure.\n",
      "Youre at a cross road. Where do you want to go? Type \"left\" or \"right\"\n",
      "enter your choice left or rightleft\n",
      "You've come to a lake. There is an island in the middle of the lake. Type \"wait\" to wait for a boat. Type \"swim\" to swim across.wait\n",
      "You arrive at the island unharmed. There is a house with 3 doors. One red, one yellow and one blue. Which colour do you choose?yellow\n",
      "You found the treasure! You Win!\n"
     ]
    }
   ],
   "source": [
    "print(treasure1)\n",
    "print(\"Welcome to Treasure Island.\")\n",
    "print(\"Your mission is to find the treasure.\")\n",
    "print('Youre at a cross road. Where do you want to go? Type \"left\" or \"right\"')\n",
    "\n",
    "choice = input(\"enter your choice left or right\")\n",
    "if choice.lower() == \"left\":\n",
    "    lakechoice = input('''You've come to a lake. There is an island in the middle of the lake. Type \"wait\" to wait for a boat. Type \"swim\" to swim across.''')\n",
    "    if lakechoice.lower() == \"wait\":\n",
    "        arrive = input(\"You arrive at the island unharmed. There is a house with 3 doors. One red, one yellow and one blue. Which colour do you choose?\")\n",
    "        if arrive.lower() == \"yellow\":\n",
    "            print(\"You found the treasure! You Win!\")\n",
    "        elif arrive.lower() == \"blue\":\n",
    "            print(\"Eaten by beasts.Game Over.\")\n",
    "        elif arrive.lower() == \"red\":\n",
    "            print(\"Burned by fire.Game Over.\")\n",
    "        else:\n",
    "            print(\"Game Over\")\n",
    "    else:\n",
    "        print(\"Attacked by trout.Game Over.\")\n",
    "else:\n",
    "    print(\"Fall into a hole.Game Over.\")\n",
    "            \n"
   ]
  },
  {
   "cell_type": "code",
   "execution_count": null,
   "id": "426a30af",
   "metadata": {},
   "outputs": [],
   "source": []
  }
 ],
 "metadata": {
  "kernelspec": {
   "display_name": "Python 3 (ipykernel)",
   "language": "python",
   "name": "python3"
  },
  "language_info": {
   "codemirror_mode": {
    "name": "ipython",
    "version": 3
   },
   "file_extension": ".py",
   "mimetype": "text/x-python",
   "name": "python",
   "nbconvert_exporter": "python",
   "pygments_lexer": "ipython3",
   "version": "3.9.13"
  }
 },
 "nbformat": 4,
 "nbformat_minor": 5
}
