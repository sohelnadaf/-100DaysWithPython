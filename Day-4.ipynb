{
 "cells": [
  {
   "cell_type": "code",
   "execution_count": 3,
   "id": "b1a66c58",
   "metadata": {},
   "outputs": [],
   "source": [
    "import random as rand"
   ]
  },
  {
   "cell_type": "code",
   "execution_count": 17,
   "id": "1bc51f2e",
   "metadata": {},
   "outputs": [
    {
     "name": "stdout",
     "output_type": "stream",
     "text": [
      "10\n"
     ]
    }
   ],
   "source": [
    "random_number = rand.randint(1,10)\n",
    "print(random_number)"
   ]
  },
  {
   "cell_type": "code",
   "execution_count": 41,
   "id": "d6c159ad",
   "metadata": {},
   "outputs": [
    {
     "name": "stdout",
     "output_type": "stream",
     "text": [
      "Tail\n"
     ]
    }
   ],
   "source": [
    "# 3 heads or Tails\n",
    "random_number  = rand.randint(1,2)\n",
    "\n",
    "\n",
    "if random_number == 1:\n",
    "    print(\"Head\")\n",
    "else:\n",
    "    print(\"Tail\")"
   ]
  },
  {
   "cell_type": "code",
   "execution_count": 54,
   "id": "fefa319f",
   "metadata": {},
   "outputs": [
    {
     "name": "stdout",
     "output_type": "stream",
     "text": [
      "enter all names with , seperate sohel,avinash,hariba,draj\n",
      "we are pick up a card for whole payment hariba\n"
     ]
    }
   ],
   "source": [
    "name = input(\"enter all names with , seperate \")\n",
    "\n",
    "list_names = name.split(\",\")\n",
    "\n",
    "pick_card = rand.randint(0,len(list_names)-1)\n",
    "# print(pick_card)\n",
    "# print(list_names)\n",
    "\n",
    "print(f'we are pick up a card for whole payment {list_names[pick_card]}')"
   ]
  },
  {
   "cell_type": "code",
   "execution_count": 63,
   "id": "d34a4ffa",
   "metadata": {},
   "outputs": [
    {
     "name": "stdout",
     "output_type": "stream",
     "text": [
      "['🤓', '🤓', '🤓']\n",
      "['🤓', '🤓', '🤓']\n",
      "['🤓', '🤓', '🤓']\n"
     ]
    }
   ],
   "source": [
    "# Day 4.3 \n",
    "row1 = [\"🤓\",\"🤓\",\"🤓\"]\n",
    "row2 = [\"🤓\",\"🤓\",\"🤓\"]\n",
    "row3 = [\"🤓\",\"🤓\",\"🤓\"]\n",
    "map = [row1,row2,row2]\n",
    "print(f\"{row1}\\n{row2}\\n{row3}\")\n",
    "map[0][1] = \"👊\"\n"
   ]
  },
  {
   "cell_type": "code",
   "execution_count": 64,
   "id": "eaaf8747",
   "metadata": {},
   "outputs": [
    {
     "name": "stdout",
     "output_type": "stream",
     "text": [
      "['🤓', '👊', '🤓']\n",
      "['🤓', '🤓', '🤓']\n",
      "['🤓', '🤓', '🤓']\n"
     ]
    }
   ],
   "source": [
    "print(f\"{row1}\\n{row2}\\n{row3}\")"
   ]
  },
  {
   "cell_type": "code",
   "execution_count": 27,
   "id": "1b53773d",
   "metadata": {},
   "outputs": [
    {
     "name": "stdout",
     "output_type": "stream",
     "text": [
      "your options \n",
      "1.Rock\n",
      "2.paper\n",
      "3.Scissors\n",
      "2\n",
      "Paper wins againsh rock\n"
     ]
    }
   ],
   "source": [
    "# rock paper scissors game\n",
    "user_input = int(input(\"your options \\n1.Rock\\n2.paper\\n3.Scissors\\n\"))\n",
    "random_number  = rand.randint(1,3)\n",
    "\n",
    "\n",
    "if(user_input == 1) and (random_number == 3):\n",
    "    print(\"Rock wins against scissors\")\n",
    "elif(user_input == 3) and (random_number == 2):\n",
    "    print(\"Scissors win againsh paper\")\n",
    "elif(user_input == 2) and (random_number == 1):\n",
    "    print(\"Paper wins againsh rock\")\n",
    "else: \n",
    "    print(\"sorry\")\n",
    "\n"
   ]
  },
  {
   "cell_type": "code",
   "execution_count": null,
   "id": "c41164b5",
   "metadata": {},
   "outputs": [],
   "source": []
  }
 ],
 "metadata": {
  "kernelspec": {
   "display_name": "Python 3 (ipykernel)",
   "language": "python",
   "name": "python3"
  },
  "language_info": {
   "codemirror_mode": {
    "name": "ipython",
    "version": 3
   },
   "file_extension": ".py",
   "mimetype": "text/x-python",
   "name": "python",
   "nbconvert_exporter": "python",
   "pygments_lexer": "ipython3",
   "version": "3.9.13"
  }
 },
 "nbformat": 4,
 "nbformat_minor": 5
}
